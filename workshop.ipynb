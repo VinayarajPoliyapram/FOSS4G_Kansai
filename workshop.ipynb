{
 "cells": [
  {
   "cell_type": "markdown",
   "metadata": {},
   "source": [
    "# Theory and Practice of Deep Learning for Large-scale Geospatial Data"
   ]
  },
  {
   "cell_type": "markdown",
   "metadata": {},
   "source": [
    "<center>Lectures: PoliyapramVinayaraj and Ryuhei Hamaguchi</center></h1>"
   ]
  },
  {
   "cell_type": "markdown",
   "metadata": {},
   "source": [
    "## Introduction"
   ]
  },
  {
   "cell_type": "markdown",
   "metadata": {},
   "source": [
    "Data-driven science and machine-learning techniques are becoming increasingly important. In particular, deep learning has proven to be a major breakthrough and an extremely powerful tool in many fields. This workshop aims mainly to introduce deep learning techniques for Geospatial data application. This workshop eventually helps the participants to create their desired deep learning architectures and also to modify the functions such as activation function, loss function, optimizer, etc., of the existing deep learning models."
   ]
  },
  {
   "cell_type": "markdown",
   "metadata": {},
   "source": [
    "### 1. Perceptron Learning"
   ]
  },
  {
   "cell_type": "markdown",
   "metadata": {
    "collapsed": true
   },
   "source": [
    "The perceptron is an intuitive, easy to implement machine learning algorithms which given an input vector x (x1, x2,.., xn) often called input features, outputs either 1 or 0. The perceptron belongs to the category of supervised learning algorithms, more specifically single-layer binary classifier. The perceptron algorithm is about learning the weights for the input features in order to draw linear decision boundary that allows us to discriminate between the two linearly separable classes. In this paper, rather than using it as a classifier, SLP to compute best parameters (weights) which used to multiply the input features in order to provide best accuracy with respect to the ground truth data. "
   ]
  },
  {
   "cell_type": "code",
   "execution_count": null,
   "metadata": {},
   "outputs": [],
   "source": []
  }
 ],
 "metadata": {
  "celltoolbar": "Raw Cell Format",
  "kernelspec": {
   "display_name": "Python 2",
   "language": "python",
   "name": "python2"
  },
  "language_info": {
   "codemirror_mode": {
    "name": "ipython",
    "version": 2
   },
   "file_extension": ".py",
   "mimetype": "text/x-python",
   "name": "python",
   "nbconvert_exporter": "python",
   "pygments_lexer": "ipython2",
   "version": "2.7.11"
  }
 },
 "nbformat": 4,
 "nbformat_minor": 2
}
