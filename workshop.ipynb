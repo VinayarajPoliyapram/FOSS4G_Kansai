{
 "cells": [
  {
   "cell_type": "markdown",
   "metadata": {},
   "source": [
    "# <font color=black> Theory and Practice of Deep Learning for Large-scale Geospatial Data </font>"
   ]
  },
  {
   "cell_type": "markdown",
   "metadata": {},
   "source": [
    "<center>Lectures: PoliyapramVinayaraj (email: vinay223333@gmail.com) and Ryuhei Hamaguchi (email: ryuhei.hamaguchi@gmail.com )</center></h1>"
   ]
  },
  {
   "cell_type": "markdown",
   "metadata": {},
   "source": [
    "## Introduction"
   ]
  },
  {
   "cell_type": "markdown",
   "metadata": {},
   "source": [
    "#### A brief introduction to Artificial Intelligence Research Center (AIRC)"
   ]
  },
  {
   "cell_type": "markdown",
   "metadata": {},
   "source": [
    "<img src=\"AIRC2.jpg\" width=600 >"
   ]
  },
  {
   "cell_type": "markdown",
   "metadata": {},
   "source": [
    "###### Utilizing AI in “global monitoring of the Earth” and “smart mobility”"
   ]
  },
  {
   "cell_type": "markdown",
   "metadata": {},
   "source": [
    "The innovative downsizing of Earth-observing satellites has realized “constellations” consisting of hundreds of micro-satellites. The resulting huge amount of Earth imagery must be automatically analyzed by AI instead of human eyes. In order to promote the commercialization, we are developing an intelligent system which efficiently collect beneficial information from the tremendous satellite imagery by automatic detection of any kinds of objects and events on the Earth."
   ]
  },
  {
   "cell_type": "markdown",
   "metadata": {},
   "source": [
    "### <font color=black>  Deep  learning for Remote Sensing </font>"
   ]
  },
  {
   "cell_type": "markdown",
   "metadata": {},
   "source": [
    "Data-driven science and machine-learning techniques are becoming increasingly important. In particular, deep learning has proven to be a major breakthrough and an extremely powerful tool in many fields. This workshop aims mainly to introduce deep learning techniques for Geospatial data application."
   ]
  },
  {
   "cell_type": "markdown",
   "metadata": {},
   "source": [
    "- Remote-sensing data are often multimodal, e.g., from optical (multi- and hyperspectral), Lidar, and synthetic aperture radar (SAR) sensors\n",
    "- Remote-sensing data are geolocated, i.e., they are naturally  located in the geographical space\n",
    "- Continous and temporal observations triggering to time-series processing\n",
    "- Remote sensing also faces the “big data” challenge"
   ]
  },
  {
   "cell_type": "markdown",
   "metadata": {},
   "source": [
    "### <font color=black> Common applications </font>"
   ]
  },
  {
   "cell_type": "markdown",
   "metadata": {},
   "source": [
    ">  **Hyperspectral image analysis, \n",
    "   Classification of SAR images, \n",
    "  Multimodal data fusion, Object detection,\n",
    "  3-D reconstruction,\n",
    "  Noise reduction,\n",
    "  Domain adaptation, Dimensionality reduction, etc.**"
   ]
  },
  {
   "cell_type": "markdown",
   "metadata": {},
   "source": [
    "### 1. Perceptron Learning"
   ]
  },
  {
   "cell_type": "markdown",
   "metadata": {
    "collapsed": true
   },
   "source": [
    "The perceptron is an intuitive, easy to implement machine learning algorithms which given an input vector x (x1, x2,.., xn) often called input features, outputs either 1 or 0. The perceptron belongs to the category of supervised learning algorithms, more specifically single-layer binary classifier. The perceptron algorithm is about learning the weights for the input features in order to draw linear decision boundary that allows us to discriminate between the two linearly separable classes. In this paper, rather than using it as a classifier, SLP to compute best parameters (weights) which used to multiply the input features in order to provide best accuracy with respect to the ground truth data. "
   ]
  },
  {
   "cell_type": "markdown",
   "metadata": {},
   "source": [
    "<center>  Single Layer Perceptron </center>"
   ]
  },
  {
   "cell_type": "markdown",
   "metadata": {},
   "source": [
    "<img src=\"SLP.png\" width=400 />"
   ]
  }
 ],
 "metadata": {
  "celltoolbar": "Raw Cell Format",
  "kernelspec": {
   "display_name": "Python 3",
   "language": "python",
   "name": "python3"
  },
  "language_info": {
   "codemirror_mode": {
    "name": "ipython",
    "version": 3
   },
   "file_extension": ".py",
   "mimetype": "text/x-python",
   "name": "python",
   "nbconvert_exporter": "python",
   "pygments_lexer": "ipython3",
   "version": "3.6.5"
  }
 },
 "nbformat": 4,
 "nbformat_minor": 2
}
