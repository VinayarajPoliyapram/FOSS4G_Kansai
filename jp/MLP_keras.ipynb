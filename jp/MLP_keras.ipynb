{
 "cells": [
  {
   "cell_type": "markdown",
   "metadata": {},
   "source": [
    "##  衛星画像の多層パーセプトロンの練習"
   ]
  },
  {
   "cell_type": "markdown",
   "metadata": {},
   "source": [
    "これにはいくつかのコードが必要です。将来、独自のモデルを作成する方法がわかるように、ゆっくりとステップを説明します。"
   ]
  },
  {
   "cell_type": "markdown",
   "metadata": {},
   "source": [
    "このチュートリアルで説明する手順は次のとおりです。\n",
    "- ライブラリのロード\n",
    "- データのロード\n",
    "- モデルの定義\n",
    "- モデルのコンパイル\n",
    "- モデルの適合\n",
    "- モデルの評価"
   ]
  },
  {
   "cell_type": "markdown",
   "metadata": {},
   "source": [
    "**必要なライブラリをロードする**"
   ]
  },
  {
   "cell_type": "code",
   "execution_count": null,
   "metadata": {},
   "outputs": [],
   "source": [
    "import numpy as np"
   ]
  },
  {
   "cell_type": "markdown",
   "metadata": {},
   "source": [
    "この演習にはKerasを使用します"
   ]
  },
  {
   "cell_type": "code",
   "execution_count": null,
   "metadata": {},
   "outputs": [],
   "source": [
    "import keras\n",
    "from keras.models import Sequential\n",
    "from keras.layers import Activation, Dense\n",
    "model = Sequential()"
   ]
  },
  {
   "cell_type": "markdown",
   "metadata": {},
   "source": [
    "**準備されたデータを読み込む**"
   ]
  },
  {
   "cell_type": "code",
   "execution_count": null,
   "metadata": {},
   "outputs": [],
   "source": [
    "x_train,y_train = np.load('../dataset/isprs_vaihingen/train/patches/image.npy'),np.load('../dataset/isprs_vaihingen/train/patches/label.npy')\n",
    "x_test,y_test = np.load('../dataset/isprs_vaihingen/val/patches/image.npy'),np.load('../dataset/isprs_vaihingen/val/patches/label.npy')"
   ]
  },
  {
   "cell_type": "code",
   "execution_count": null,
   "metadata": {},
   "outputs": [],
   "source": [
    "print (x_train.shape)"
   ]
  },
  {
   "cell_type": "code",
   "execution_count": null,
   "metadata": {},
   "outputs": [],
   "source": [
    "from keras import backend as K\n",
    "print (K.image_data_format())"
   ]
  },
  {
   "cell_type": "code",
   "execution_count": null,
   "metadata": {},
   "outputs": [],
   "source": [
    "print (int(y_train.max()))"
   ]
  },
  {
   "cell_type": "code",
   "execution_count": null,
   "metadata": {},
   "outputs": [],
   "source": [
    "num_classes = 5\n",
    "channel = x_train.shape[-1]\n",
    "print (channel)"
   ]
  },
  {
   "cell_type": "markdown",
   "metadata": {},
   "source": [
    "ピクセル単位のパーセプトロン学習のために、画像パッチを1Dベクトルに変形します"
   ]
  },
  {
   "cell_type": "code",
   "execution_count": null,
   "metadata": {},
   "outputs": [],
   "source": [
    "x_train = x_train.reshape(x_train.shape[0]*x_train.shape[1]*x_train.shape[2],x_train.shape[3])\n",
    "x_test = x_test.reshape(x_test.shape[0]*x_test.shape[1]*x_test.shape[2],x_test.shape[3])"
   ]
  },
  {
   "cell_type": "code",
   "execution_count": null,
   "metadata": {},
   "outputs": [],
   "source": [
    "print (x_train.shape)"
   ]
  },
  {
   "cell_type": "code",
   "execution_count": null,
   "metadata": {},
   "outputs": [],
   "source": [
    "y_train = y_train.reshape(y_train.shape[0]*y_train.shape[1]*y_train.shape[2])\n",
    "y_test = y_test.reshape(y_test.shape[0]*y_test.shape[1]*y_test.shape[2])"
   ]
  },
  {
   "cell_type": "code",
   "execution_count": null,
   "metadata": {},
   "outputs": [],
   "source": [
    "print (y_train.shape)"
   ]
  },
  {
   "cell_type": "markdown",
   "metadata": {},
   "source": [
    "**One-hot encoding** カテゴリー機能を数値変数に転送するのに便利です "
   ]
  },
  {
   "cell_type": "markdown",
   "metadata": {},
   "source": [
    "matplotlibを使用して1つのサンプルをプロットする"
   ]
  },
  {
   "cell_type": "code",
   "execution_count": null,
   "metadata": {},
   "outputs": [],
   "source": [
    "y_tra = keras.utils.to_categorical(y_train, num_classes)\n",
    "y_tes = keras.utils.to_categorical(y_test, num_classes)"
   ]
  },
  {
   "cell_type": "code",
   "execution_count": null,
   "metadata": {},
   "outputs": [],
   "source": [
    "print(y_tra.shape)"
   ]
  },
  {
   "cell_type": "code",
   "execution_count": null,
   "metadata": {},
   "outputs": [],
   "source": [
    "print(y_tra[0,])"
   ]
  },
  {
   "cell_type": "markdown",
   "metadata": {},
   "source": [
    "**モデルを定義する**"
   ]
  },
  {
   "cell_type": "code",
   "execution_count": null,
   "metadata": {},
   "outputs": [],
   "source": [
    "model = Sequential()\n",
    "model.add(Dense(16, input_dim=(3), activation='relu'))\n",
    "model.add(Dense(8, activation='relu'))\n",
    "model.add(Dense(num_classes, activation='softmax'))\n",
    "model.summary()"
   ]
  },
  {
   "cell_type": "markdown",
   "metadata": {},
   "source": [
    "完全に接続されたレイヤーである密なレイヤーについては既に知っています。 **アクティベーション関数**とは何か？を見てみましょう "
   ]
  },
  {
   "cell_type": "markdown",
   "metadata": {},
   "source": [
    "**活性化関数**は、人工ニューラルネットワークの非常に重要な機能です。 彼らは基本的に、ニューロンを活性化すべきかどうかを決定します。 ニューロンが受信している情報が、与えられた情報に関連しているか、無視すべきか"
   ]
  },
  {
   "cell_type": "markdown",
   "metadata": {},
   "source": [
    "**ReLU**"
   ]
  },
  {
   "cell_type": "markdown",
   "metadata": {},
   "source": [
    "<center> $ A(x) = max(0,x) $ <center>"
   ]
  },
  {
   "cell_type": "markdown",
   "metadata": {},
   "source": [
    "<img src=\"../fig/ReLU.jpeg\" width  = 300 />"
   ]
  },
  {
   "cell_type": "markdown",
   "metadata": {},
   "source": [
    "**Sigmoid**"
   ]
  },
  {
   "cell_type": "markdown",
   "metadata": {},
   "source": [
    "\\begin{equation*}\n",
    "A(x) = \\frac{1}{(1-e^{-x})}\n",
    "\\end{equation*}"
   ]
  },
  {
   "cell_type": "markdown",
   "metadata": {},
   "source": [
    "<img src=\"../fig/Sigmoid.png\" width  = 300 />"
   ]
  },
  {
   "cell_type": "markdown",
   "metadata": {},
   "source": [
    "**モデルのコンパイル**"
   ]
  },
  {
   "cell_type": "markdown",
   "metadata": {},
   "source": [
    "モデルを定義したら、コンパイルする必要があります。 モデルのトレーニング中に言及するいくつかの選択肢があります "
   ]
  },
  {
   "cell_type": "markdown",
   "metadata": {},
   "source": [
    "- オプティマイザー: 一般的に使用されるモデルをトレーニングする際に重みを更新する特定のアルゴリズムは、**確率的勾配降下（SGD）**です。\n",
    "- 損失関数：最適化はスペースワイトをナビゲートするために使用され、最適化は損失最小化のプロセスとして定義されます（損失関数の一般的な選択には、**バイナリクロスエントロピー**、**カテゴリクロスエントロピー（ソフトマックスクロスエントロイ）**および**平均二乗誤差（MSE）**があります ）\n",
    "- モデルの評価（一般的な選択肢は、**Accuracy(正解率)**、**Precision(適合率)**、**Recall(再現率)**です）"
   ]
  },
  {
   "cell_type": "markdown",
   "metadata": {},
   "source": [
    "<img src=\"../fig/backpropog.png\" width  = 400 />"
   ]
  },
  {
   "cell_type": "markdown",
   "metadata": {},
   "source": [
    "<img src= \"../fig/Metrics.png\" width = 250 >"
   ]
  },
  {
   "cell_type": "code",
   "execution_count": null,
   "metadata": {},
   "outputs": [],
   "source": [
    "SGD = keras.optimizers.SGD(lr=0.01)"
   ]
  },
  {
   "cell_type": "code",
   "execution_count": null,
   "metadata": {},
   "outputs": [],
   "source": [
    "catergorical = keras.losses.categorical_crossentropy"
   ]
  },
  {
   "cell_type": "code",
   "execution_count": null,
   "metadata": {},
   "outputs": [],
   "source": [
    "accuracy = ['accuracy']"
   ]
  },
  {
   "cell_type": "code",
   "execution_count": null,
   "metadata": {},
   "outputs": [],
   "source": [
    "model.compile(loss = catergorical, optimizer = SGD,\n",
    "              metrics = accuracy)"
   ]
  },
  {
   "cell_type": "markdown",
   "metadata": {},
   "source": [
    "**Fit Model**"
   ]
  },
  {
   "cell_type": "markdown",
   "metadata": {},
   "source": [
    "モデルをコンパイルしたら、Kerasの`fit()`関数でトレーニングできます。この関数は、エポック、batch_sizeなどのいくつかのパラメーターを指定します。"
   ]
  },
  {
   "cell_type": "code",
   "execution_count": null,
   "metadata": {},
   "outputs": [],
   "source": [
    "BATCH_SIZE= 30000\n",
    "EPOCHS = 2"
   ]
  },
  {
   "cell_type": "code",
   "execution_count": null,
   "metadata": {},
   "outputs": [],
   "source": [
    "history = model.fit(x_train, y_tra,\n",
    "                    batch_size=BATCH_SIZE, epochs=EPOCHS, shuffle=True, validation_data = (x_test, y_tes))"
   ]
  },
  {
   "cell_type": "code",
   "execution_count": null,
   "metadata": {},
   "outputs": [],
   "source": [
    "score = model.evaluate(x_test, y_tes)\n",
    "print  (score[1])"
   ]
  },
  {
   "cell_type": "markdown",
   "metadata": {},
   "source": [
    "トレーニングと評価中の精度と損失を示すプロットグラフ"
   ]
  },
  {
   "cell_type": "code",
   "execution_count": null,
   "metadata": {},
   "outputs": [],
   "source": [
    "import matplotlib.pyplot as plt\n",
    "# ignore annoying warnings\n",
    "import warnings\n",
    "warnings.filterwarnings('ignore')"
   ]
  },
  {
   "cell_type": "code",
   "execution_count": null,
   "metadata": {},
   "outputs": [],
   "source": [
    "plt.plot(history.history['acc'])\n",
    "plt.plot(history.history['val_acc'])\n",
    "plt.title('model accuracy')\n",
    "plt.ylabel('accuracy')\n",
    "plt.xlabel('epoch')\n",
    "plt.legend(['train', 'test'], loc='upper left')\n",
    "plt.show()"
   ]
  },
  {
   "cell_type": "code",
   "execution_count": null,
   "metadata": {},
   "outputs": [],
   "source": [
    "plt.plot(history.history['loss'])\n",
    "plt.plot(history.history['val_loss'])\n",
    "plt.title('model loss')\n",
    "plt.ylabel('loss')\n",
    "plt.xlabel('epoch')\n",
    "plt.legend(['train', 'test'], loc='upper left')\n",
    "plt.show()"
   ]
  },
  {
   "cell_type": "markdown",
   "metadata": {},
   "source": [
    "テストデータを使用してモデルのパフォーマンスを評価する"
   ]
  },
  {
   "cell_type": "markdown",
   "metadata": {},
   "source": [
    "**より多くの隠れ層（より深いネットワーク）でKerasの単純なネットを改善すると、**\n",
    "定義されたネットワークにより密度の高い層が追加されます"
   ]
  },
  {
   "cell_type": "code",
   "execution_count": null,
   "metadata": {},
   "outputs": [],
   "source": [
    "model = Sequential()\n",
    "model.add(Dense(32, input_dim=(3), activation='relu'))\n",
    "model.add(Dense(32, activation='relu'))\n",
    "# adding three more layers\n",
    "model.add(Dense(16, activation='relu'))\n",
    "model.add(Dense(16, activation='relu'))\n",
    "model.add(Dense(8, activation='relu'))\n",
    "model.add(Dense(num_classes, activation='softmax'))\n",
    "model.summary()"
   ]
  },
  {
   "cell_type": "markdown",
   "metadata": {},
   "source": [
    "**コンパイル、トレーニング、モデルのパフォーマンスを検証する**"
   ]
  },
  {
   "cell_type": "code",
   "execution_count": null,
   "metadata": {},
   "outputs": [],
   "source": [
    "model.compile(loss = catergorical, optimizer = SGD,\n",
    "              metrics = accuracy)\n",
    "\n",
    "history1 = model.fit(x_train, y_tra,\n",
    "                    batch_size=BATCH_SIZE, epochs=EPOCHS, validation_data = (x_test, y_tes))\n",
    "\n",
    "# compare and mention the accuracy improvements"
   ]
  },
  {
   "cell_type": "code",
   "execution_count": null,
   "metadata": {},
   "outputs": [],
   "source": [
    "score1 = model.evaluate(x_test, y_tes)\n",
    "print  (score1[1])"
   ]
  },
  {
   "cell_type": "markdown",
   "metadata": {},
   "source": [
    "**Kerasでいくつかのハイパーチューニングパラメーターを使用してさまざまなオプティマイザー機能をテストする**"
   ]
  },
  {
   "cell_type": "markdown",
   "metadata": {},
   "source": [
    "**確率的勾配降下（SGD）**として知られる一般的なオプティマイザーに注目しましょう**\n",
    "Gradient Descent（GAN）最適化アルゴリズムを使用して、各エポックの後に重みが増分的に更新されます（トレーニングデータセットを渡す）。\n",
    "\n",
    "損失関数J(⋅)、二乗誤差の合計（SSE）は、次のように記述できます。:"
   ]
  },
  {
   "cell_type": "markdown",
   "metadata": {},
   "source": [
    "<img src=\"../fig/loss_sgd1.png\" width  = 250/>"
   ]
  },
  {
   "cell_type": "markdown",
   "metadata": {},
   "source": [
    "重みの更新の大きさと方向は、コスト勾配の反対方向に一歩を踏み出すことによって計算されます"
   ]
  },
  {
   "cell_type": "markdown",
   "metadata": {},
   "source": [
    "<img src = \"../fig/learning_sgd2.png\" width = 150 />"
   ]
  },
  {
   "cell_type": "markdown",
   "metadata": {},
   "source": [
    "ここで、ηは学習率、$ \\frac{\\sigma J}{\\sigma wj} $は偏微分です"
   ]
  },
  {
   "cell_type": "markdown",
   "metadata": {},
   "source": [
    "<img src = \"../fig/SGD.png\" width = 500 />"
   ]
  },
  {
   "cell_type": "markdown",
   "metadata": {},
   "source": [
    "基本的に、GDの最適化は、山から谷に登りたいハイカー（体重係数）であると考えることができます。また、各ステップは、勾配の勾配（勾配）とハイカーの脚の長さ（学習率）によって決まります。 学習率（η）が小さすぎると、ハイカーの動きが遅くなることに注意してください。 ηが高すぎる場合、ハイカーは値[1]を見逃す可能性があります。 "
   ]
  },
  {
   "cell_type": "markdown",
   "metadata": {},
   "source": [
    "いくつかの学習レート調整テクニックが利用できます。**RMSprop**、**Adam**、**Adadelta**などの高度な最適化テクニックは、パラメータを自動的に調整します。"
   ]
  },
  {
   "cell_type": "code",
   "execution_count": null,
   "metadata": {},
   "outputs": [],
   "source": [
    "SGD = keras.optimizers.SGD(lr=0.01, decay = 0.005)"
   ]
  },
  {
   "cell_type": "code",
   "execution_count": null,
   "metadata": {},
   "outputs": [],
   "source": [
    "model.compile(loss = catergorical, optimizer = SGD,\n",
    "              metrics = accuracy)"
   ]
  },
  {
   "cell_type": "code",
   "execution_count": null,
   "metadata": {},
   "outputs": [],
   "source": [
    "history1 = model.fit(x_train, y_tra,\n",
    "                    batch_size=BATCH_SIZE, epochs=EPOCHS, validation_data = (x_test, y_tes))"
   ]
  },
  {
   "cell_type": "markdown",
   "metadata": {},
   "source": [
    "他の高度なテクニックを使用してトレーニングする"
   ]
  },
  {
   "cell_type": "code",
   "execution_count": null,
   "metadata": {},
   "outputs": [],
   "source": [
    "SGD = keras.optimizers.RMSprop(lr=0.001, rho=0.9, epsilon=None, decay=0.0)"
   ]
  },
  {
   "cell_type": "code",
   "execution_count": null,
   "metadata": {},
   "outputs": [],
   "source": [
    "#SGD = keras.optimizers.Adadelta(lr=1.0, rho=0.95, epsilon=None, decay=0.0)"
   ]
  },
  {
   "cell_type": "code",
   "execution_count": null,
   "metadata": {},
   "outputs": [],
   "source": [
    "model.compile(loss = catergorical, optimizer = SGD,\n",
    "              metrics = accuracy)\n",
    "history1 = model.fit(x_train, y_tra,\n",
    "                    batch_size=BATCH_SIZE, epochs=EPOCHS, validation_data = (x_test, y_tes))"
   ]
  },
  {
   "cell_type": "markdown",
   "metadata": {},
   "source": [
    "**見えないデータのモデル予測**"
   ]
  },
  {
   "cell_type": "code",
   "execution_count": null,
   "metadata": {},
   "outputs": [],
   "source": [
    "x_pred,y_pred = np.load('../dataset/isprs_vaihingen/test/patches/image.npy'),np.load('../dataset/isprs_vaihingen/test/patches/label.npy')"
   ]
  },
  {
   "cell_type": "code",
   "execution_count": null,
   "metadata": {},
   "outputs": [],
   "source": [
    "print (x_pred.shape)"
   ]
  },
  {
   "cell_type": "code",
   "execution_count": null,
   "metadata": {},
   "outputs": [],
   "source": [
    "x_pred = x_pred.reshape(x_pred.shape[0]*x_pred.shape[1]*x_pred.shape[2],x_pred.shape[3])"
   ]
  },
  {
   "cell_type": "code",
   "execution_count": null,
   "metadata": {},
   "outputs": [],
   "source": [
    "print (x_pred.shape)"
   ]
  },
  {
   "cell_type": "code",
   "execution_count": null,
   "metadata": {},
   "outputs": [],
   "source": [
    "Predict_prob = model.predict(x_pred)"
   ]
  },
  {
   "cell_type": "code",
   "execution_count": null,
   "metadata": {},
   "outputs": [],
   "source": [
    "Predict_prob.shape"
   ]
  },
  {
   "cell_type": "code",
   "execution_count": null,
   "metadata": {},
   "outputs": [],
   "source": [
    "Predict_prob[0]"
   ]
  },
  {
   "cell_type": "code",
   "execution_count": null,
   "metadata": {},
   "outputs": [],
   "source": [
    "Predict_class = np.argmax(Predict_prob,axis=-1)"
   ]
  },
  {
   "cell_type": "code",
   "execution_count": null,
   "metadata": {},
   "outputs": [],
   "source": [
    "Predict_class.shape"
   ]
  },
  {
   "cell_type": "code",
   "execution_count": null,
   "metadata": {},
   "outputs": [],
   "source": [
    "Predict_class = Predict_class.reshape(70,256,256)"
   ]
  },
  {
   "cell_type": "code",
   "execution_count": null,
   "metadata": {},
   "outputs": [],
   "source": [
    "%matplotlib  notebook\n",
    "import matplotlib.pyplot as  plt\n",
    "fig = plt.figure()\n",
    "ax = fig.add_subplot(121)\n",
    "ax.imshow(Predict_class[4], interpolation='none')\n",
    "ax.set_xticks([])\n",
    "ax.set_yticks([])\n",
    "ax.set_title('Predict')\n",
    "fig.show()\n",
    "\n",
    "ax = fig.add_subplot(122)\n",
    "ax.imshow(y_pred[4], interpolation='none')\n",
    "ax.set_xticks([])\n",
    "ax.set_yticks([])\n",
    "ax.set_title('Label')\n",
    "\n",
    "fig.suptitle('Scene: top_mosaic_09cm_area1')\n",
    "fig.show()\n"
   ]
  },
  {
   "cell_type": "markdown",
   "metadata": {},
   "source": [
    "**参照**"
   ]
  },
  {
   "cell_type": "markdown",
   "metadata": {},
   "source": [
    "[1] Bottou, Léon. \"Stochastic gradient descent tricks.\" Neural Networks: Tricks of the Trade. Springer Berlin Heidelberg, 2012. 421-436."
   ]
  }
 ],
 "metadata": {
  "kernelspec": {
   "display_name": "Python 3",
   "language": "python",
   "name": "python3"
  },
  "language_info": {
   "codemirror_mode": {
    "name": "ipython",
    "version": 3
   },
   "file_extension": ".py",
   "mimetype": "text/x-python",
   "name": "python",
   "nbconvert_exporter": "python",
   "pygments_lexer": "ipython3",
   "version": "3.6.0"
  }
 },
 "nbformat": 4,
 "nbformat_minor": 2
}
